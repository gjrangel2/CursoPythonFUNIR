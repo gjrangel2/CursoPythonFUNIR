{
 "cells": [
  {
   "cell_type": "markdown",
   "metadata": {
    "id": "hvgIKytVrvG1"
   },
   "source": [
    "## Ejercicio 1\n",
    "\n",
    "Crea una función llamada ejercicio1, que recibe la ruta donde se encuentra un dataset y devuelve una DataFrame con los datos que hay en el dataset. Para comprobar esta función utiliza el dataset `titanic.csv` que se incluye en esta actividad."
   ]
  },
  {
   "cell_type": "code",
   "execution_count": null,
   "metadata": {
    "id": "BRGikayYwvZP"
   },
   "outputs": [],
   "source": [
    "import pandas as pd\n",
    "def ejercicio1(ruta):\n",
    "    df = pd.read_csv(ruta)\n",
    "    return df"
   ]
  },
  {
   "cell_type": "code",
   "execution_count": null,
   "metadata": {},
   "outputs": [],
   "source": [
    "df_titanic = ejercicio1(\"titanic.csv\")\n",
    "print(df_titanic.head())"
   ]
  },
  {
   "cell_type": "markdown",
   "metadata": {
    "id": "YRpCtFlPrvG4"
   },
   "source": [
    "## Ejercicio 2\n",
    "\n",
    "Crea otra función llamada ejercicio2. Esta función recibe un único argumento que es un dataframe. En concreto debe recibir el dataframe que se ha obtenido de leer el dataset `titanic.csv`. Esta función devolverá otro dataset que incluya únicamente a los pasajeros menores de 35 años y que viajaban en 3ª clase."
   ]
  },
  {
   "cell_type": "code",
   "execution_count": null,
   "metadata": {
    "id": "3ldp2clqwwgt"
   },
   "outputs": [],
   "source": [
    "def ejercicio2(df):\n",
    "    df = df[df['Age'] < 35]\n",
    "    df = df[df['Pclass'] == 3]\n",
    "    return df"
   ]
  },
  {
   "cell_type": "markdown",
   "metadata": {
    "id": "Bez_8pMjrvG4"
   },
   "source": [
    "## Ejercicio 3\n",
    "\n",
    "Crea una función llamada ejercicio3, que recibiendo como argumento el dataframe del dataset `titanic.csv`, calcule el porcentaje de persona que sobrevieron. Redondee el resultado al segundo decimal."
   ]
  },
  {
   "cell_type": "code",
   "execution_count": null,
   "metadata": {
    "id": "ehP1qtBpwxOn"
   },
   "outputs": [],
   "source": [
    "def ejercicio3(df):\n",
    "    return round(df['Survived'].mean() * 100, 2)"
   ]
  },
  {
   "cell_type": "markdown",
   "metadata": {
    "id": "g0gecOawrvG5"
   },
   "source": [
    "## Ejercicio 4\n",
    "\n",
    "Implementa una función llamada ejercicio4 que recibiendo el dataframe con los datos del Titanic, devuelva en una tupla el porcentaje de hombres y mujeres que viajaban en el Titanic, redondeados al segundo decimal."
   ]
  },
  {
   "cell_type": "code",
   "execution_count": null,
   "metadata": {
    "id": "XFmr3ODZwxuj"
   },
   "outputs": [],
   "source": [
    "def ejercicio4(df):\n",
    "    male_pct = len(df[df['Sex'] == 'male']) / len(df) * 100\n",
    "    female_pct = len(df[df['Sex'] == 'female']) / len(df) * 100\n",
    "    return (male_pct, female_pct)"
   ]
  },
  {
   "cell_type": "markdown",
   "metadata": {
    "id": "nLFLQJwfrvG5"
   },
   "source": [
    "## Ejercicio 5\n",
    "\n",
    "\n",
    "Implementa una función llamada ejercicio5 que recibiendo el dataframe con los datos del Titanic, devuelva en una lista el número de pasajeros que viajaban en 1ª, 2ª y 3ª clase."
   ]
  },
  {
   "cell_type": "code",
   "execution_count": null,
   "metadata": {
    "id": "tTDhF9KfwySR"
   },
   "outputs": [],
   "source": [
    "def ejercicio5(df):\n",
    "    return df['Pclass'].value_counts().sort_index().tolist()"
   ]
  }
 ],
 "metadata": {
  "colab": {
   "provenance": []
  },
  "kernelspec": {
   "display_name": "Python [conda env:base] *",
   "language": "python",
   "name": "conda-base-py"
  },
  "language_info": {
   "codemirror_mode": {
    "name": "ipython",
    "version": 3
   },
   "file_extension": ".py",
   "mimetype": "text/x-python",
   "name": "python",
   "nbconvert_exporter": "python",
   "pygments_lexer": "ipython3",
   "version": "3.12.7"
  }
 },
 "nbformat": 4,
 "nbformat_minor": 4
}
