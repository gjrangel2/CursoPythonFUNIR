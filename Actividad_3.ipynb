{
 "cells": [
  {
   "cell_type": "markdown",
   "metadata": {},
   "source": [
    "En la siguiente celda, completa los siguientes ejercicios:\n",
    "\n",
    "## Ejercicio 1\n",
    "\n",
    "Escribe una clase llamada Numero. Esta clase debe tener una constructora que reciba un número y almacene ese número en 2 atributos: romano que almacenará el número en el formato de número romanos como una cadena de caracteres y normal que guardará el número que nos han dado en la constructora.\n",
    "\n",
    "## Ejercicio 2\n",
    "\n",
    "Crea dos nuevos métodos en la clase Numero. El primer método, llamado imprime(), imprime un mensaje mostrando el valor de ambos atributos; el segundo método, llamado suma_romano(), tendrá como parámetros una cadena de caracteres que representará otro número romano y que sumaremos a los atributos que ya teníamos.\n",
    "\n",
    "**NOTA:** si necesita convertir el número romano a número normal para realizar las operaciones implemente un nuevo método.\n",
    "\n",
    "## Ejercicio 3\n",
    "\n",
    "Define una función llamada is_romano() dentro de la clase Numero que a partir de una cadena de caracteres, devuelve True si esa cadena de caracteres corresponde con un número romano y falso en caso contrario. Después, modifica el método para que lance un error en el caso de que el valor que nos pasan por parámetro no se corresponde con el patrón de un número romano."
   ]
  },
  {
   "cell_type": "code",
   "execution_count": 1,
   "metadata": {},
   "outputs": [],
   "source": [
    "class Numero:\n",
    "    def __init__(self, numero):\n",
    "        self.normal = numero\n",
    "        self.romano = self.numero_a_romano(numero)\n",
    "        \n",
    "    def numero_a_romano(self, numero):\n",
    "        valores = [\n",
    "            (1000, 'M'), (900, 'CM'), (500, 'D'), (400, 'CD'),\n",
    "            (100, 'C'), (90, 'XC'), (50, 'L'), (40, 'XL'),\n",
    "            (10, 'X'), (9, 'IX'), (5, 'V'), (4, 'IV'), (1, 'I')\n",
    "        ]\n",
    "        \n",
    "        resultado = ''\n",
    "        for valor, simbolo in valores:\n",
    "            while numero >= valor:\n",
    "                resultado += simbolo\n",
    "                numero -= valor\n",
    "        return resultado\n",
    "\n",
    "    def suma_romano(self, caracter_romano):\n",
    "        num= self.normal\n",
    "        numero_romano = self.romano_a_numero(caracter_romano)\n",
    "        num2= num + numero_romano  \n",
    "        self.romano= self.numero_a_romano(num2)     \n",
    "        \n",
    "    def imprime(self):\n",
    "        print(self.normal, self.romano)\n",
    "    \n",
    "    def romano_a_numero(self, romano):\n",
    "        valores = {\n",
    "            'I': 1, 'V': 5, 'X': 10, 'L': 50,\n",
    "            'C': 100, 'D': 500, 'M': 1000\n",
    "        }\n",
    "        total = 0\n",
    "        anterior = 0\n",
    "    \n",
    "        for letra in reversed(romano):\n",
    "            actual = valores[letra]\n",
    "            if actual < anterior:\n",
    "                total -= actual\n",
    "            else:\n",
    "                total += actual\n",
    "                anterior = actual\n",
    "        return total\n",
    "\n",
    "    def is_romano(self, numRomano):\n",
    "        romanos_validos = {'I', 'V', 'X', 'L', 'C', 'D', 'M'}\n",
    "        if isinstance(numRomano, str):\n",
    "            self.romano = numRomano.upper()\n",
    "            for letra in numRomano:\n",
    "                if letra not in romanos_validos:\n",
    "                    return False\n",
    "            self.normal = self.romano_a_numero(self.romano)\n",
    "            return True\n",
    "        \n",
    "            "
   ]
  },
  {
   "cell_type": "markdown",
   "metadata": {},
   "source": [
    "En la siguiente celda, completa los siguientes ejercicios:\n",
    "\n",
    "## Ejercicio 4\n",
    "\n",
    "Implementa una clase llamada MejorNumero. Esta clase heredará las propiedades de Numero e incluirá dos métodos nuevos, llamados resta() y multiplica(), para restar y multiplicar los atributos recibiendo por parámetro otro número romano. \n",
    "\n",
    "\n",
    "## Ejercicio 5\n",
    "\n",
    "En la clase MejorNumero, crea un nuevo método llamado iterar() que reciba una lista con 3 números romanos. A continuación, iterando sobre los elementos de la lista llamará a la función suma_romano(). Los posibles errores se tendrán que gestionar con excepciones (try...except...) para mostrar un mensaje y seguir ejecutando el siguiente número.\n",
    "\n",
    "**NOTA:** el mensaje de error ha de seguir el siguiente formato --> print('Ha fallado el número', 5). "
   ]
  },
  {
   "cell_type": "code",
   "execution_count": null,
   "metadata": {},
   "outputs": [],
   "source": [
    "class MejorNumero(Numero):\n",
    "    def __init__(self, numero):\n",
    "        \n",
    "        try:\n",
    "            if numero >4000:\n",
    "                raise ValueError(f\"el numero ingresado es: {numero}.  No puede ser un valor mayor a 4000\")\n",
    "            \n",
    "            Numero.__init__(self, numero)\n",
    "        except ValueError as e2:\n",
    "            print(f\"{e2}\")\n",
    "    def resta(self, vr_romano):\n",
    "        romano_num=self.romano_a_numero(vr_romano)\n",
    "        self.normal -= romano_num\n",
    "        self.romano= self.numero_a_romano(self.normal)\n",
    "\n",
    "    def multiplica(self, vr_romano):\n",
    "        romano_num=self.romano_a_numero(vr_romano)\n",
    "        self.normal *= romano_num\n",
    "        self.romano= self.numero_a_romano(self.normal)\n",
    "\n",
    "    def iterar(self, list_romanos):\n",
    "        try:\n",
    "            suma_entero = self.normal\n",
    "            if len(list_romanos)!=3:\n",
    "                raise ValueError(\"La lista debe contener exactamente 3 números romanos.\")\n",
    "            else:\n",
    "                for Nromano in list_romanos:\n",
    "                    try:\n",
    "                        if not self.is_romano(Nromano):\n",
    "                            raise ValueError(f\"Ha fallado el número {Nromano}\")\n",
    "                        else:\n",
    "                            valor = self.romano_a_numero(Nromano)\n",
    "                            suma_entero += valor\n",
    "                            self.romano = self.numero_a_romano(suma_entero)\n",
    "                            self.normal = self.romano_a_numero(self.romano)\n",
    "                            \n",
    "                            ###print(f\"valor: {valor} sumaentero: {suma_entero} suma_romano:{self.romano} normal: {self.normal}\")\n",
    "                    except ValueError as e:\n",
    "                        print(f\"{e}\")\n",
    "        except ValueError as e1:\n",
    "                print(f\"{e1}\") "
   ]
  },
  {
   "cell_type": "code",
   "execution_count": 21,
   "metadata": {},
   "outputs": [],
   "source": [
    "\n",
    "aux = MejorNumero(500)\n"
   ]
  },
  {
   "cell_type": "code",
   "execution_count": 22,
   "metadata": {},
   "outputs": [
    {
     "name": "stdout",
     "output_type": "stream",
     "text": [
      "CDXC\n"
     ]
    }
   ],
   "source": [
    "aux.resta(\"X\")\n",
    "print(aux.romano)"
   ]
  },
  {
   "cell_type": "code",
   "execution_count": 23,
   "metadata": {},
   "outputs": [
    {
     "name": "stdout",
     "output_type": "stream",
     "text": [
      "MCDLXX\n",
      "MCDLXXXII\n",
      "1482\n"
     ]
    }
   ],
   "source": [
    "aux.multiplica(\"III\")\n",
    "print(aux.romano)\n",
    "aux.iterar([\"X\",\"I\",\"I\"])\n",
    "print(aux.romano)\n",
    "print(aux.normal)"
   ]
  },
  {
   "cell_type": "code",
   "execution_count": null,
   "metadata": {},
   "outputs": [],
   "source": []
  },
  {
   "cell_type": "code",
   "execution_count": null,
   "metadata": {},
   "outputs": [],
   "source": []
  }
 ],
 "metadata": {
  "kernelspec": {
   "display_name": ".venv",
   "language": "python",
   "name": "python3"
  },
  "language_info": {
   "codemirror_mode": {
    "name": "ipython",
    "version": 3
   },
   "file_extension": ".py",
   "mimetype": "text/x-python",
   "name": "python",
   "nbconvert_exporter": "python",
   "pygments_lexer": "ipython3",
   "version": "3.13.2"
  }
 },
 "nbformat": 4,
 "nbformat_minor": 4
}
